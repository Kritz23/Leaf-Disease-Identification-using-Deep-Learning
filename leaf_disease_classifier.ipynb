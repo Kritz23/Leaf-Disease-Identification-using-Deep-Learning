{
  "nbformat": 4,
  "nbformat_minor": 0,
  "metadata": {
    "colab": {
      "name": "leaf_disease_classifier.ipynb",
      "version": "0.3.2",
      "provenance": [],
      "collapsed_sections": []
    },
    "kernelspec": {
      "name": "python3",
      "display_name": "Python 3"
    },
    "accelerator": "GPU"
  },
  "cells": [
    {
      "cell_type": "code",
      "metadata": {
        "id": "NIXvXyhGHsRX",
        "colab_type": "code",
        "outputId": "25c80e38-6fe2-4da1-c517-0cf9af316830",
        "colab": {
          "base_uri": "https://localhost:8080/",
          "height": 55
        }
      },
      "source": [
        "# Run this cell to mount your Google Drive.\n",
        "from google.colab import drive\n",
        "drive.mount('/content/drive')"
      ],
      "execution_count": 0,
      "outputs": [
        {
          "output_type": "stream",
          "text": [
            "Drive already mounted at /content/drive; to attempt to forcibly remount, call drive.mount(\"/content/drive\", force_remount=True).\n"
          ],
          "name": "stdout"
        }
      ]
    },
    {
      "cell_type": "code",
      "metadata": {
        "id": "q8dvo4WGHugv",
        "colab_type": "code",
        "colab": {}
      },
      "source": [
        "!cp \"/content/drive/My Drive/colab_drive/Dataset.zip\" /content/"
      ],
      "execution_count": 0,
      "outputs": []
    },
    {
      "cell_type": "code",
      "metadata": {
        "id": "_HEDQzlBK06O",
        "colab_type": "code",
        "outputId": "a5ae689e-9d58-4aa8-f4c6-7e3ee9ea2a1b",
        "colab": {
          "base_uri": "https://localhost:8080/",
          "height": 72
        }
      },
      "source": [
        "import os\n",
        "os.chdir(\"/content/\")\n",
        "!unzip Dataset.zip -d /content/"
      ],
      "execution_count": 0,
      "outputs": [
        {
          "output_type": "stream",
          "text": [
            "Archive:  Dataset.zip\n",
            "replace /content/Dataset/Testing_Dataset/Corn_(maize)___Cercospora_leaf_spot Gray_leaf_spot/0.jpg? [y]es, [n]o, [A]ll, [N]one, [r]ename: "
          ],
          "name": "stdout"
        }
      ]
    },
    {
      "cell_type": "code",
      "metadata": {
        "id": "xhJhHKgLB20G",
        "colab_type": "code",
        "colab": {}
      },
      "source": [
        "from keras import applications\n",
        "from keras import optimizers\n",
        "from keras.models import Sequential,Model\n",
        "from keras.layers import Conv2D, MaxPooling2D,GlobalAveragePooling2D\n",
        "from keras.layers import Activation, Dropout, Flatten, Dense\n",
        "from keras.callbacks import ModelCheckpoint, LearningRateScheduler, TensorBoard, EarlyStopping\n",
        "from keras.preprocessing.image import ImageDataGenerator"
      ],
      "execution_count": 0,
      "outputs": []
    },
    {
      "cell_type": "code",
      "metadata": {
        "id": "6vb7SlEO78tH",
        "colab_type": "code",
        "outputId": "8ad3773c-79e7-4e3f-815a-40701995d4d5",
        "colab": {
          "base_uri": "https://localhost:8080/",
          "height": 89
        }
      },
      "source": [
        "!ls\n",
        "os.chdir(\"Dataset\")\n",
        "y_train = list(os.listdir(\"Training_Dataset\"))\n",
        "y_test = list(os.listdir(\"Testing_Dataset\"))\n",
        "print(y_test)\n",
        "print(y_train)"
      ],
      "execution_count": 0,
      "outputs": [
        {
          "output_type": "stream",
          "text": [
            "Dataset  Dataset.zip  drive  sample_data\n",
            "['Corn_(maize)___Common_rust_', 'Corn_(maize)___healthy', 'Corn_(maize)___Cercospora_leaf_spot Gray_leaf_spot', 'Peach___Bacterial_spot', 'Peach___healthy']\n",
            "['Corn_(maize)___Common_rust_', 'Corn_(maize)___healthy', 'Corn_(maize)___Cercospora_leaf_spot Gray_leaf_spot', 'Peach___Bacterial_spot', 'Peach___healthy']\n"
          ],
          "name": "stdout"
        }
      ]
    },
    {
      "cell_type": "code",
      "metadata": {
        "id": "_b-eNlNsCOcf",
        "colab_type": "code",
        "outputId": "acc02b4c-e5a2-4727-c9ec-5023a0e0ad07",
        "colab": {
          "base_uri": "https://localhost:8080/",
          "height": 52
        }
      },
      "source": [
        "train_datagen_VGG16 = ImageDataGenerator(\n",
        "    rotation_range=20,\n",
        "    width_shift_range=0.2,\n",
        "    height_shift_range=0.2,\n",
        "    zoom_range=0.2,\n",
        "    horizontal_flip=True,\n",
        "    validation_split=0.2)\n",
        "\n",
        "train_generator_VGG16 = train_datagen_VGG16.flow_from_directory(\n",
        "    \"Training_Dataset\",\n",
        "    target_size=(224,224),\n",
        "    batch_size=64,\n",
        "    class_mode='categorical',\n",
        "    subset='training') # set as training data\n",
        "\n",
        "validation_generator_VGG16 = train_datagen_VGG16.flow_from_directory(\n",
        "    \"Testing_Dataset\", # same directory as training data\n",
        "    target_size=(224,224),\n",
        "    batch_size=64,\n",
        "    class_mode=\"categorical\",\n",
        "    subset='validation') # set as validation data\n"
      ],
      "execution_count": 0,
      "outputs": [
        {
          "output_type": "stream",
          "text": [
            "Found 3537 images belonging to 5 classes.\n",
            "Found 218 images belonging to 5 classes.\n"
          ],
          "name": "stdout"
        }
      ]
    },
    {
      "cell_type": "code",
      "metadata": {
        "id": "wQJrK6UtCx73",
        "colab_type": "code",
        "colab": {}
      },
      "source": [
        "model = applications.VGG16(weights = \"imagenet\", include_top=False,\n",
        "                           input_shape = (224,224, 3))"
      ],
      "execution_count": 0,
      "outputs": []
    },
    {
      "cell_type": "code",
      "metadata": {
        "id": "dW-X06LKC-yR",
        "colab_type": "code",
        "colab": {}
      },
      "source": [
        "# Freeze the layers which we don't want to train. Here I am freezing all layers.\n",
        "for layer in model.layers[0:-1]:\n",
        "    layer.trainable = False    "
      ],
      "execution_count": 0,
      "outputs": []
    },
    {
      "cell_type": "code",
      "metadata": {
        "id": "DVUs2UMfDFp1",
        "colab_type": "code",
        "outputId": "62ba0dbd-6290-4d2e-e372-fc64a897f524",
        "colab": {
          "base_uri": "https://localhost:8080/",
          "height": 797
        }
      },
      "source": [
        "model.summary()"
      ],
      "execution_count": 0,
      "outputs": [
        {
          "output_type": "stream",
          "text": [
            "_________________________________________________________________\n",
            "Layer (type)                 Output Shape              Param #   \n",
            "=================================================================\n",
            "input_4 (InputLayer)         (None, 224, 224, 3)       0         \n",
            "_________________________________________________________________\n",
            "block1_conv1 (Conv2D)        (None, 224, 224, 64)      1792      \n",
            "_________________________________________________________________\n",
            "block1_conv2 (Conv2D)        (None, 224, 224, 64)      36928     \n",
            "_________________________________________________________________\n",
            "block1_pool (MaxPooling2D)   (None, 112, 112, 64)      0         \n",
            "_________________________________________________________________\n",
            "block2_conv1 (Conv2D)        (None, 112, 112, 128)     73856     \n",
            "_________________________________________________________________\n",
            "block2_conv2 (Conv2D)        (None, 112, 112, 128)     147584    \n",
            "_________________________________________________________________\n",
            "block2_pool (MaxPooling2D)   (None, 56, 56, 128)       0         \n",
            "_________________________________________________________________\n",
            "block3_conv1 (Conv2D)        (None, 56, 56, 256)       295168    \n",
            "_________________________________________________________________\n",
            "block3_conv2 (Conv2D)        (None, 56, 56, 256)       590080    \n",
            "_________________________________________________________________\n",
            "block3_conv3 (Conv2D)        (None, 56, 56, 256)       590080    \n",
            "_________________________________________________________________\n",
            "block3_pool (MaxPooling2D)   (None, 28, 28, 256)       0         \n",
            "_________________________________________________________________\n",
            "block4_conv1 (Conv2D)        (None, 28, 28, 512)       1180160   \n",
            "_________________________________________________________________\n",
            "block4_conv2 (Conv2D)        (None, 28, 28, 512)       2359808   \n",
            "_________________________________________________________________\n",
            "block4_conv3 (Conv2D)        (None, 28, 28, 512)       2359808   \n",
            "_________________________________________________________________\n",
            "block4_pool (MaxPooling2D)   (None, 14, 14, 512)       0         \n",
            "_________________________________________________________________\n",
            "block5_conv1 (Conv2D)        (None, 14, 14, 512)       2359808   \n",
            "_________________________________________________________________\n",
            "block5_conv2 (Conv2D)        (None, 14, 14, 512)       2359808   \n",
            "_________________________________________________________________\n",
            "block5_conv3 (Conv2D)        (None, 14, 14, 512)       2359808   \n",
            "_________________________________________________________________\n",
            "block5_pool (MaxPooling2D)   (None, 7, 7, 512)         0         \n",
            "=================================================================\n",
            "Total params: 14,714,688\n",
            "Trainable params: 0\n",
            "Non-trainable params: 14,714,688\n",
            "_________________________________________________________________\n"
          ],
          "name": "stdout"
        }
      ]
    },
    {
      "cell_type": "code",
      "metadata": {
        "id": "yQsN78FtDHdv",
        "colab_type": "code",
        "colab": {}
      },
      "source": [
        "#Adding custom Layers \n",
        "x = model.output\n",
        "x = Flatten()(x)\n",
        "x = Dense(128, activation=\"relu\")(x)\n",
        "x = Dropout(0.2)(x)\n",
        "x = Dense(32, activation=\"relu\")(x)\n",
        "x = Dropout(0.2)(x)\n",
        "\n",
        "predictions = Dense(5, activation=\"softmax\")(x)"
      ],
      "execution_count": 0,
      "outputs": []
    },
    {
      "cell_type": "code",
      "metadata": {
        "id": "N0Ts9aOuDNCC",
        "colab_type": "code",
        "outputId": "93486f0b-74ba-4744-c1be-3c0a3863fc87",
        "colab": {
          "base_uri": "https://localhost:8080/",
          "height": 72
        }
      },
      "source": [
        "# creating the final model \n",
        "model_final = Model(input = model.input, output = predictions)"
      ],
      "execution_count": 0,
      "outputs": [
        {
          "output_type": "stream",
          "text": [
            "/usr/local/lib/python3.6/dist-packages/ipykernel_launcher.py:1: UserWarning: Update your `Model` call to the Keras 2 API: `Model(inputs=Tensor(\"in..., outputs=Tensor(\"de...)`\n",
            "  \"\"\"Entry point for launching an IPython kernel.\n"
          ],
          "name": "stderr"
        }
      ]
    },
    {
      "cell_type": "code",
      "metadata": {
        "id": "wAqngQ4WDPTu",
        "colab_type": "code",
        "colab": {}
      },
      "source": [
        "model_final.summary()"
      ],
      "execution_count": 0,
      "outputs": []
    },
    {
      "cell_type": "code",
      "metadata": {
        "id": "fhRIcXhDDTng",
        "colab_type": "code",
        "colab": {}
      },
      "source": [
        "# compile the model \n",
        "model_final.compile(loss = \"categorical_crossentropy\", optimizer = optimizers.Adam(lr=0.001), metrics=[\"accuracy\"])"
      ],
      "execution_count": 0,
      "outputs": []
    },
    {
      "cell_type": "code",
      "metadata": {
        "id": "BFKThc-tDblf",
        "colab_type": "code",
        "colab": {}
      },
      "source": [
        "\n",
        "# Save the model according to the conditions  \n",
        "checkpoint = ModelCheckpoint(\"vgg16_1.h5\", monitor='val_acc', verbose=1, save_best_only=True, save_weights_only=False, mode='auto', period=1)\n",
        "early = EarlyStopping(monitor='val_acc', min_delta=0, patience=5, verbose=1, mode='auto')\n"
      ],
      "execution_count": 0,
      "outputs": []
    },
    {
      "cell_type": "code",
      "metadata": {
        "id": "wTsSQWM4DeIG",
        "colab_type": "code",
        "colab": {}
      },
      "source": [
        "#!cp \"/content/drive/My Drive/colab_drive/vgg16_1.h5\" \"/content/Dataset/vgg16_1.h5\"\n",
        "#model_final.load_weights(\"/content/vgg16_1.h5\")"
      ],
      "execution_count": 0,
      "outputs": []
    },
    {
      "cell_type": "code",
      "metadata": {
        "id": "FkwAeI1PDhT0",
        "colab_type": "code",
        "outputId": "224a6cf1-abaf-4dfe-97bb-d1b634ffa863",
        "colab": {
          "base_uri": "https://localhost:8080/",
          "height": 263
        }
      },
      "source": [
        "model_final.fit_generator(\n",
        "    train_generator_VGG16,\n",
        "    steps_per_epoch = train_generator_VGG16.samples // 64,\n",
        "    validation_data = validation_generator_VGG16, \n",
        "    validation_steps = validation_generator_VGG16.samples // 64,\n",
        "    epochs = 3,\n",
        "    callbacks = [checkpoint, early])"
      ],
      "execution_count": 0,
      "outputs": [
        {
          "output_type": "stream",
          "text": [
            "Epoch 1/3\n",
            "55/55 [==============================] - 46s 838ms/step - loss: 2.5018 - acc: 0.7591 - val_loss: 1.6282 - val_acc: 0.8802\n",
            "\n",
            "Epoch 00001: val_acc improved from -inf to 0.88021, saving model to vgg16_1.h5\n",
            "Epoch 2/3\n",
            "55/55 [==============================] - 39s 715ms/step - loss: 1.1259 - acc: 0.8765 - val_loss: 0.6573 - val_acc: 0.9351\n",
            "\n",
            "Epoch 00002: val_acc improved from 0.88021 to 0.93506, saving model to vgg16_1.h5\n",
            "Epoch 3/3\n",
            "55/55 [==============================] - 40s 722ms/step - loss: 0.6301 - acc: 0.9201 - val_loss: 0.4291 - val_acc: 0.9481\n",
            "\n",
            "Epoch 00003: val_acc improved from 0.93506 to 0.94805, saving model to vgg16_1.h5\n"
          ],
          "name": "stdout"
        },
        {
          "output_type": "execute_result",
          "data": {
            "text/plain": [
              "<keras.callbacks.History at 0x7f665538f5c0>"
            ]
          },
          "metadata": {
            "tags": []
          },
          "execution_count": 145
        }
      ]
    },
    {
      "cell_type": "code",
      "metadata": {
        "id": "BaHJ7cYzDoCD",
        "colab_type": "code",
        "colab": {}
      },
      "source": [
        ""
      ],
      "execution_count": 0,
      "outputs": []
    }
  ]
}